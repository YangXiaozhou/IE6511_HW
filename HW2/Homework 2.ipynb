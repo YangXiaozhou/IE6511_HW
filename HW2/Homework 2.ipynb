{
 "cells": [
  {
   "cell_type": "markdown",
   "metadata": {},
   "source": [
    "## IE6511 Homework 1 \n",
    "Done by: Aloisius Stephen and Yang Xiaozhou"
   ]
  },
  {
   "cell_type": "code",
   "execution_count": 144,
   "metadata": {
    "collapsed": true
   },
   "outputs": [],
   "source": [
    "import numpy as np\n",
    "import pandas as pd\n",
    "import matplotlib\n",
    "import matplotlib.pyplot as plt\n",
    "%matplotlib inline\n",
    "\n",
    "np.random.seed(100)\n",
    "\n",
    "font = {'family' : 'sans-serif',\n",
    "        'weight' : 'normal',\n",
    "        'size'   : 12}\n",
    "\n",
    "matplotlib.rc('font', **font)"
   ]
  },
  {
   "cell_type": "markdown",
   "metadata": {
    "collapsed": true
   },
   "source": [
    "## 1. Homework on Genetic Algorithm\n",
    "\n",
    "1. A binary string of length 4 <br> <br>\n",
    "\n",
    "2.  Parent one before crossover: 0010, after crossover: 0010<br>\n",
    "    Parent two before crossover: 0011, after crossover: 0011<br> <br>\n",
    "    Parent three before crossover: 0011, after crossover: 1011<br>\n",
    "    Parent four  before crossover: 1010, after crossover: 0010 <br><br>\n",
    "\n",
    "3. Pair one children: 0010 and 0011 <br>\n",
    "   Pair two children: 1011 and 0010 <br> <br>\n",
    "\n",
    "4. After mutation, <br>\n",
    "   Pair one children: 0000 and 0001 <br>\n",
    "   Pair two children: 1001 and 0000 <br> <br>\n",
    "\n",
    "5. x and f(x) values of children: <br>\n",
    "    children one, x = 0, f(x) = 0 <br>\n",
    "    children two, x = 1, f(x) = 1 <br>\n",
    "    children three, x = 9, f(x) = 6561 <br>\n",
    "    children four, x = 0, f(x) = 0 <br>\n",
    "\n",
    "    Total f(x) = 6561+ 1 = 6562\n",
    "\n",
    "    Probability of being selected: <br>\n",
    "    children one, p = 0 <br>\n",
    "    children two, p = 1/6562 <br>\n",
    "    children three, p = 6561/6562 <br>\n",
    "    children four, p = 0 <br> <br>\n",
    "\n",
    "6. Binary strings of parents: <br>\n",
    "    Parent one: 0110 0010 1001 <br>\n",
    "    Parent two: 0001 0010 0011 <br>\n",
    "    \n",
    "    Children binary strings, x value (Crossover point 3): <br>\n",
    "    Children one: 0111 0010 0001, x = (7,2,9) <br>\n",
    "    Children two: 0000 0010 1011, x = (0,2,3) <br>\n",
    "    \n",
    "    \n",
    "    \n"
   ]
  },
  {
   "cell_type": "markdown",
   "metadata": {},
   "source": [
    "## Simulated Annealing\n",
    "\n",
    "### 2. SA Parameter Selection when cost function range = (MaxCost and MinCost) are known\n",
    "<!--no code-->"
   ]
  },
  {
   "cell_type": "markdown",
   "metadata": {},
   "source": [
    "a) \n",
    "\\begin{align}\n",
    "avg \\Delta cost &= 0.25(MaxCost - MinCost) \\\\\n",
    "&= 25\n",
    "\\end{align}\n",
    "\n",
    "\\begin{align}\n",
    "T_0 &= - \\frac{avg \\Delta cost}{\\ln P1} \\\\\n",
    "\\end{align}"
   ]
  },
  {
   "cell_type": "code",
   "execution_count": 2,
   "metadata": {},
   "outputs": [
    {
     "name": "stdout",
     "output_type": "stream",
     "text": [
      "T_0: 27.2839\n"
     ]
    }
   ],
   "source": [
    "P_1 = 0.4\n",
    "T_0 = -25/ np.log(P_1)\n",
    "print(\"T_0: %.4f\" %T_0)"
   ]
  },
  {
   "cell_type": "markdown",
   "metadata": {
    "collapsed": true
   },
   "source": [
    "b)\n",
    "\\begin{align}\n",
    "T_0 &= - \\frac{0.25(MaxCost - MinCost)}{\\ln P1} \\\\\n",
    "\\end{align}\n",
    "\n",
    "c)\n",
    "\\begin{align}\n",
    "T_{final} &= - \\frac{0.25(MaxCost - MinCost)}{\\ln P2} \\\\\n",
    "\\end{align}\n",
    "\n",
    "d)\n",
    "\\begin{align}\n",
    "\\alpha &= \\left \\{- \\frac{0.25(MaxCost - MinCost)}{T_0 \\ln P2} \\right \\}^\\frac{1}{G} \\\\\n",
    "&= \\left \\{- \\frac{25}{ 100 \\ln 0.001} \\right \\}^\\frac{1}{200}\n",
    "\\end{align}"
   ]
  },
  {
   "cell_type": "code",
   "execution_count": 3,
   "metadata": {},
   "outputs": [
    {
     "name": "stdout",
     "output_type": "stream",
     "text": [
      "Alpha: 0.9835\n"
     ]
    }
   ],
   "source": [
    "alpha = np.power(-25/(100*np.log(0.001)), 1/200)\n",
    "print(\"Alpha: %.4f\" %alpha)"
   ]
  },
  {
   "cell_type": "markdown",
   "metadata": {},
   "source": [
    "e)\n",
    "\\begin{align}\n",
    "\\alpha &= \\left \\{- \\frac{0.25(MaxCost - MinCost)}{T_0 \\ln P2} \\right \\}^\\frac{1}{G\\div M} \\\\\n",
    "&= \\left \\{- \\frac{25}{ 100 \\ln 0.001} \\right \\}^\\frac{1}{200 \\div 10} \\\\\n",
    "&= \\left \\{- \\frac{25}{ 100 \\ln 0.001} \\right \\}^\\frac{1}{20}\n",
    "\\end{align}"
   ]
  },
  {
   "cell_type": "code",
   "execution_count": 4,
   "metadata": {},
   "outputs": [
    {
     "name": "stdout",
     "output_type": "stream",
     "text": [
      "Alpha: 0.8471\n"
     ]
    }
   ],
   "source": [
    "alpha = np.power(-25/(100*np.log(0.001)), 1/20)\n",
    "print(\"Alpha: %.4f\" %alpha)"
   ]
  },
  {
   "cell_type": "markdown",
   "metadata": {},
   "source": [
    "### 3. SA Parameter Selection when you have computed AP cost values (no coding necessary)  \n",
    "<!--no code-->\n",
    "Use Method 2 to estimate AvgΔCost. Assume you are running an SA optimization trial and you have picked AP = 6 points which are 1,2,3,4,5,6.  The values you have are Cost (j) = 40, 60, 50, 65, 75, 45 for j=1,2,3,4,5,6 respectively. Assume all the points 1 to 6 are neighbors of each other. What value would you take for the initial value S0 for your SA search?  Estimate a value of T0 that would give you P1 of 0.9 using Method 2 for estimating AvgΔCost.  (Assume the constant M=1.)"
   ]
  },
  {
   "cell_type": "code",
   "execution_count": 14,
   "metadata": {},
   "outputs": [
    {
     "name": "stdout",
     "output_type": "stream",
     "text": [
      "T_0: 180.3332\n"
     ]
    }
   ],
   "source": [
    "S_0 = 1\n",
    "Avg_Diff_Cost = 1/5 * np.sum([x-40 for x in [60, 50, 65, 75, 45]])\n",
    "P_1 = 0.9\n",
    "T_0 = -Avg_Diff_Cost/ np.log(P_1)\n",
    "print(\"T_0: %.4f\" %T_0)"
   ]
  },
  {
   "cell_type": "code",
   "execution_count": 15,
   "metadata": {},
   "outputs": [
    {
     "data": {
      "text/plain": [
       "19.0"
      ]
     },
     "execution_count": 15,
     "metadata": {},
     "output_type": "execute_result"
    }
   ],
   "source": [
    "Avg_Del_Cost"
   ]
  },
  {
   "cell_type": "markdown",
   "metadata": {},
   "source": [
    "### 4. SA Implementation (requires writing a Simulated Annealing code, preferably in python, matlab or  C)  Instructions below are for Matlab.\n",
    "<!--CODING-->\n",
    "\n",
    "Write a Matlab function called cost.m that returns the value of the above function.  The input argument should be S (a vector).\n",
    "  \n",
    "Define the neighborhood function using a function called neighbor.m.  The neighborhood should be randomly perturb one of the two decision variables current value between max(s-25,0) and min(s+25, 127). Note that the neighborhood function should not select s as a neighbor of itself, i.e. neighbor(s) ≠ s. If you wish, it may be easier to code this if you select the decision variable to be perturbed within the SA code and then call neighbor.m to make the one-dimensional perturbation.  Note that in general, as problems increase in dimension, the definition of the neighborhood can become more complex.\n",
    "\n",
    "Submit a printout of the code for SA.m, cost.m and neighbor.m.  Debug thoroughly as you will reuse the SA code in future homeworks!  If you care to return other output variables from SA.m, such as scurrent (perhaps for debugging/interest), please output them to additional output variables (not solution or BestS) that you define in your SA code."
   ]
  },
  {
   "cell_type": "code",
   "execution_count": 207,
   "metadata": {},
   "outputs": [
    {
     "data": {
      "text/plain": [
       "999830324.228912"
      ]
     },
     "execution_count": 207,
     "metadata": {},
     "output_type": "execute_result"
    }
   ],
   "source": [
    "def cost(S):\n",
    "    \n",
    "    cost = np.power(10,9)-(625-np.power(S[0]-25, 2))*(1600-np.power(S[1]-10, 2))*np.sin((S[0])*np.pi/10)*np.sin((S[1])*np.pi/10)\n",
    "    \n",
    "    return cost  \n",
    "\n",
    "cost([3,4])"
   ]
  },
  {
   "cell_type": "code",
   "execution_count": 17,
   "metadata": {},
   "outputs": [
    {
     "data": {
      "image/png": "[encoded data removed]",
      "text/plain": [
       "<matplotlib.figure.Figure at 0x118c5b8d0>"
      ]
     },
     "metadata": {},
     "output_type": "display_data"
    }
   ],
   "source": [
    "s = []\n",
    "s.append(np.arange(0,128))\n",
    "s.append(np.arange(0,128))\n",
    "\n",
    "f1 = plt.plot(s[0],cost(s), 'x')\n",
    "\n",
    "f2 = plt.plot(s[1],cost(s), '.')"
   ]
  },
  {
   "cell_type": "code",
   "execution_count": 153,
   "metadata": {},
   "outputs": [
    {
     "data": {
      "text/plain": [
       "[0, 7]"
      ]
     },
     "execution_count": 153,
     "metadata": {},
     "output_type": "execute_result"
    }
   ],
   "source": [
    "def neighbor(S):\n",
    "    \n",
    "    neighbor = S\n",
    "    pos = np.random.randint(0, 2) # randomly pick one of the two decision variables\n",
    "    nei_value = S[pos]\n",
    "    while nei_value == S[pos]:\n",
    "        # randomly generate a neighbor value\n",
    "        nei_value = np.random.randint(max(S[pos]-25, 0), min(S[pos]+25, 127)+1)\n",
    "        pass\n",
    "    neighbor[pos] = nei_value # form the neighbor\n",
    "    \n",
    "    return neighbor\n",
    "\n",
    "neighbor([0,5])"
   ]
  },
  {
   "cell_type": "code",
   "execution_count": 38,
   "metadata": {},
   "outputs": [
    {
     "data": {
      "text/plain": [
       "[<matplotlib.lines.Line2D at 0x118c5beb8>]"
      ]
     },
     "execution_count": 38,
     "metadata": {},
     "output_type": "execute_result"
    },
    {
     "data": {
      "image/png": "[encoded data removed]",
      "text/plain": [
       "<matplotlib.figure.Figure at 0x11c53f2b0>"
      ]
     },
     "metadata": {},
     "output_type": "display_data"
    }
   ],
   "source": [
    "s = pd.DataFrame([[0,0]], columns = [\"s1\", \"s2\"], index = range(100))\n",
    "iteration = []\n",
    "iteration.append(0)\n",
    "\n",
    "for i in range (1,100):\n",
    "    iteration.append(i)\n",
    "    s.iloc[i] = s.iloc[i-1]\n",
    "    s.iloc[i] = neighbor(s.iloc[i])\n",
    "\n",
    "plt.plot(iteration,s.s1, '.')\n",
    "plt.plot(iteration,s.s2, 'x')"
   ]
  },
  {
   "cell_type": "code",
   "execution_count": 136,
   "metadata": {
    "collapsed": true
   },
   "outputs": [],
   "source": [
    "def SA(S_initial, T_initial, alpha, beta, M, Max_time):\n",
    "    \n",
    "    solution = np.zeros([Max_time,3])\n",
    "\n",
    "    T = T_initial\n",
    "    CurS = S_initial\n",
    "    BestS = CurS\n",
    "    CurCost = cost(CurS)\n",
    "    BestCost = CurCost\n",
    "    time = 0\n",
    "\n",
    "    while time < Max_time:\n",
    "\n",
    "        for i in range(0, M):\n",
    "            NewS = neighbor(CurS)\n",
    "            NewCost = cost(NewS)\n",
    "            diff_cost = NewCost - CurCost\n",
    "            \n",
    "            if diff_cost < 0:\n",
    "                CurS = NewS\n",
    "                CurCost = NewCost\n",
    "                if NewCost < BestCost:\n",
    "                    BestS = NewS\n",
    "                    BestCost = NewCost\n",
    "            elif np.random.random() < np.exp(-diff_cost/T): \n",
    "                CurS = NewS\n",
    "                CurCost = NewCost\n",
    "                \n",
    "            solution[time+i,0]=time+i+1\n",
    "            solution[time+i,1]=CurCost\n",
    "            solution[time+i,2]=BestCost\n",
    "        \n",
    "        time = time + M\n",
    "        T = alpha*T\n",
    "        M = beta*M\n",
    "        \n",
    "        \n",
    "    solution = solution.transpose()\n",
    "    solution = pd.DataFrame({\"Iteration_Number\":solution[0], \"Current_Cost\": solution[1], \"Best_Cost\" : solution[2]})\n",
    "    solution = solution[['Iteration_Number', 'Current_Cost', 'Best_Cost']]\n",
    "\n",
    "\n",
    "    return (solution, BestS)"
   ]
  },
  {
   "cell_type": "code",
   "execution_count": 322,
   "metadata": {
    "scrolled": false
   },
   "outputs": [],
   "source": [
    "np.random.seed(100)\n",
    "solution, BestS = SA([1,1], 100, 0.9, 1, 1, 1000)"
   ]
  },
  {
   "cell_type": "code",
   "execution_count": 323,
   "metadata": {
    "scrolled": true
   },
   "outputs": [
    {
     "name": "stdout",
     "output_type": "stream",
     "text": [
      "     Iteration_Number  Current_Cost     Best_Cost\n",
      "0                 1.0  9.997214e+08  9.997214e+08\n",
      "1                 2.0  9.992361e+08  9.992361e+08\n",
      "2                 3.0  9.992361e+08  9.992361e+08\n",
      "3                 4.0  9.991851e+08  9.991851e+08\n",
      "4                 5.0  9.991851e+08  9.991851e+08\n",
      "5                 6.0  9.991851e+08  9.991851e+08\n",
      "6                 7.0  9.991851e+08  9.991851e+08\n",
      "7                 8.0  9.991851e+08  9.991851e+08\n",
      "8                 9.0  9.991851e+08  9.991851e+08\n",
      "9                10.0  9.991851e+08  9.991851e+08\n",
      "10               11.0  9.991851e+08  9.991851e+08\n",
      "11               12.0  9.991851e+08  9.991851e+08\n",
      "12               13.0  9.991851e+08  9.991851e+08\n",
      "13               14.0  9.991851e+08  9.991851e+08\n",
      "14               15.0  9.991851e+08  9.991851e+08\n",
      "15               16.0  9.991851e+08  9.991851e+08\n",
      "16               17.0  9.991851e+08  9.991851e+08\n",
      "17               18.0  9.991851e+08  9.991851e+08\n",
      "18               19.0  9.991851e+08  9.991851e+08\n",
      "19               20.0  9.991851e+08  9.991851e+08\n",
      "20               21.0  9.991851e+08  9.991851e+08\n",
      "21               22.0  9.991851e+08  9.991851e+08\n",
      "22               23.0  9.991851e+08  9.991851e+08\n",
      "23               24.0  9.991851e+08  9.991851e+08\n",
      "24               25.0  9.991851e+08  9.991851e+08\n",
      "25               26.0  9.991851e+08  9.991851e+08\n",
      "26               27.0  9.991851e+08  9.991851e+08\n",
      "27               28.0  9.991851e+08  9.991851e+08\n",
      "28               29.0  9.991851e+08  9.991851e+08\n",
      "29               30.0  9.991851e+08  9.991851e+08\n",
      "..                ...           ...           ...\n",
      "970             971.0  9.314963e+08  9.314963e+08\n",
      "971             972.0  9.314963e+08  9.314963e+08\n",
      "972             973.0  9.314963e+08  9.314963e+08\n",
      "973             974.0  9.314963e+08  9.314963e+08\n",
      "974             975.0  9.314963e+08  9.314963e+08\n",
      "975             976.0  9.314963e+08  9.314963e+08\n",
      "976             977.0  9.314963e+08  9.314963e+08\n",
      "977             978.0  9.314963e+08  9.314963e+08\n",
      "978             979.0  9.314963e+08  9.314963e+08\n",
      "979             980.0  9.314963e+08  9.314963e+08\n",
      "980             981.0  9.314963e+08  9.314963e+08\n",
      "981             982.0  9.314963e+08  9.314963e+08\n",
      "982             983.0  9.314963e+08  9.314963e+08\n",
      "983             984.0  9.314963e+08  9.314963e+08\n",
      "984             985.0  9.314963e+08  9.314963e+08\n",
      "985             986.0  9.314963e+08  9.314963e+08\n",
      "986             987.0  9.314963e+08  9.314963e+08\n",
      "987             988.0  9.314963e+08  9.314963e+08\n",
      "988             989.0  9.314963e+08  9.314963e+08\n",
      "989             990.0  9.314963e+08  9.314963e+08\n",
      "990             991.0  9.314963e+08  9.314963e+08\n",
      "991             992.0  9.314963e+08  9.314963e+08\n",
      "992             993.0  9.314963e+08  9.314963e+08\n",
      "993             994.0  9.314963e+08  9.314963e+08\n",
      "994             995.0  9.314963e+08  9.314963e+08\n",
      "995             996.0  9.314963e+08  9.314963e+08\n",
      "996             997.0  9.314963e+08  9.314963e+08\n",
      "997             998.0  9.314963e+08  9.314963e+08\n",
      "998             999.0  9.314963e+08  9.314963e+08\n",
      "999            1000.0  9.314963e+08  9.314963e+08\n",
      "\n",
      "[1000 rows x 3 columns]\n",
      "[10, 29]\n"
     ]
    }
   ],
   "source": [
    "print(solution)\n",
    "print(BestS)"
   ]
  },
  {
   "cell_type": "markdown",
   "metadata": {},
   "source": [
    "### 5. Running SA: \n",
    "\n",
    "a) Let beta = 1, M = 1, Maxtime = 1100, P1 of accepting an uphill move is to be 0.9, and the probability of accepting an uphill move after the 1000th iteration (P2) is to be .05. What should To, T2, and alpha be?  (T2 is the temperature after 1000 iterations.) Write a script that calculates an estimate of averageCost for an uphill move by Method 2 with AP=20. Call this script SAparameter.m\n",
    "\n",
    "b) Use the values of To and α from 4a) above.   Generate 30 sets of random integer numbers sinitial (where 0≤ s1,s2 ≤ 127) and call this set Z. Now run 30 trials of SA algorithm each with starting value So = sinitiali, for i=1…,30 and sinitiali in Z. (Let Sinitial be the initial value of S at iteration 0, then start counting iterations for each trial  after the SA algorithm is called) You should NOT recalculate the SA parameters for each trial. \n",
    "Submit a plot of the average of BestCost & CurCost (averaged over all 30 runs) vs. iterations for the SA algorithm, evaluated at G=1000. Compute and report the average and standard deviation (use the MATLAB command ‘std’) of BestCost over all 30 runs after 1000 iterations.   Also report the average CPU time it takes to do one SA run (use the MATLAB command “cputime”  or “tic; toc”). \n",
    "\n",
    "c) Now repeat steps 4a, 4b, with P1=0.7, while keeping P2= 0.05, beta = 1, M = 1, G=1000 ,Maxtime = 1100.  For the new value  of P1 you will have to compute a new corresponding To and alpha based on your sampled average DCost from part a).   (You can use the same AP points computed in part 4a).\n",
    "Run the SA 30 times for P1=0.7 and compare the average of BestCost after 1100 iterations for each value of P1.  Which value of P1 works best? (you should run SA 30 times using the same initial points from set Z of part 4b above).\n",
    "\n",
    "d) The simulated annealing runs after 1000 iterations have a probability 0.05 of accepting an uphill move, so iterations between 1000 and 1100 are mostly greedy search. Do you see much improvement during these last 100 iterations? (Compare values at G=1000 and Maxtime=1100). When you implement SA, let P continue decreasing from 0.05 after the G=1000th iteration , but calculate the parameters for the SA algorithm P2  at G=1000th iteration to be 0.05.\n"
   ]
  },
  {
   "cell_type": "markdown",
   "metadata": {
    "collapsed": true
   },
   "source": [
    "## a)"
   ]
  },
  {
   "cell_type": "code",
   "execution_count": 277,
   "metadata": {
    "collapsed": true
   },
   "outputs": [],
   "source": [
    "np.random.seed(100)\n",
    "\n",
    "beta = 1\n",
    "G = 1000\n",
    "M = 1\n",
    "Max_time = 1100\n",
    "P_1 = 0.9\n",
    "P_2 = 0.05\n",
    "AP = 20\n",
    "\n",
    "\n",
    "def SAparameter(beta, G, M, Max_time, P_1, P_2, AP):\n",
    "    \n",
    "    # generate S1\n",
    "    start_s = [np.random.randint(0,128), np.random.randint(0,128)]\n",
    "    \n",
    "    # evaluate neighbors of S1\n",
    "    s_neighbor = pd.DataFrame([[0,0]], columns = [\"s1\", \"s2\"], index = range(AP))\n",
    "    cost_ap = pd.DataFrame([[0]], columns = [\"cost\"], index = range(AP))\n",
    "\n",
    "    for i in range(AP):\n",
    "        s_neighbor.iloc[i] = neighbor(start_s)\n",
    "        cost_ap.iloc[i] = cost(s_neighbor.iloc[i])\n",
    "    \n",
    "    neighbor_cost = s_neighbor.join(cost_ap)\n",
    "    avg_delta_cost = np.sum((neighbor_cost.cost-min(neighbor_cost.cost)))/(AP-1)\n",
    "    \n",
    "    # base on AP parameter search, decide on the starting S\n",
    "    S_0 = neighbor_cost.sort_values('cost').head(1).values.ravel()[:2]\n",
    "    \n",
    "    # calculate algorithm parameters\n",
    "    T_0 = -avg_delta_cost/np.log(P_1)\n",
    "    T_2 = -avg_delta_cost/np.log(P_2)\n",
    "    alpha = np.power(np.log(P_1)/np.log(P_2), 1/G)\n",
    "    \n",
    "    param = [T_0,T_2,alpha]\n",
    "    \n",
    "    return param"
   ]
  },
  {
   "cell_type": "code",
   "execution_count": 278,
   "metadata": {},
   "outputs": [
    {
     "name": "stdout",
     "output_type": "stream",
     "text": [
      "T_0, T_2, alpha: \n",
      " [7243221.1744187139, 254745.5674518866, 0.99665804079103859]\n"
     ]
    }
   ],
   "source": [
    "param = SAparameter(beta, G, M, Max_time, P_1, P_2, AP)\n",
    "print('T_0, T_2, alpha: \\n', param)"
   ]
  },
  {
   "cell_type": "markdown",
   "metadata": {},
   "source": [
    "## b)"
   ]
  },
  {
   "cell_type": "code",
   "execution_count": 279,
   "metadata": {},
   "outputs": [],
   "source": [
    "T_0 = param[0]\n",
    "alpha = param[2]"
   ]
  },
  {
   "cell_type": "code",
   "execution_count": 286,
   "metadata": {},
   "outputs": [],
   "source": [
    "Z = [[np.random.randint(0,128), np.random.randint(0,128)] for i in range(30)]"
   ]
  },
  {
   "cell_type": "code",
   "execution_count": 352,
   "metadata": {},
   "outputs": [
    {
     "data": {
      "text/plain": [
       "4.100799560546875e-05"
      ]
     },
     "execution_count": 352,
     "metadata": {},
     "output_type": "execute_result"
    }
   ],
   "source": [
    "import time\n",
    "start_time = time.time()\n",
    "cpu_time = time.time() - start_time\n",
    "cpu_time"
   ]
  },
  {
   "cell_type": "code",
   "execution_count": 353,
   "metadata": {},
   "outputs": [],
   "source": [
    "import time\n",
    "cpu_time = []\n",
    "\n",
    "start_time = time.time()\n",
    "sa_combine = SA(Z[0], T_0, alpha, beta, M, Max_time)[0]\n",
    "cpu_time.append(time.time() - start_time)\n",
    "\n",
    "for i in range(1,30):\n",
    "    start_time = time.time()\n",
    "    sa_combine = sa_combine.append(SA(Z[i], T_0, alpha, beta, M, Max_time)[0])\n",
    "    cpu_time.append(time.time() - start_time)"
   ]
  },
  {
   "cell_type": "code",
   "execution_count": 346,
   "metadata": {},
   "outputs": [
    {
     "data": {
      "image/png": "[encoded data removed]",
      "text/plain": [
       "<matplotlib.figure.Figure at 0x120154048>"
      ]
     },
     "metadata": {},
     "output_type": "display_data"
    }
   ],
   "source": [
    "#average of Current_Cost and Best_Cost plot\n",
    "plt.plot(sa_combine.groupby('Iteration_Number').mean().Current_Cost)\n",
    "plt.plot(sa_combine.groupby('Iteration_Number').mean().Best_Cost)\n",
    "plt.xlabel('Iteration')\n",
    "plt.ylabel('Cost')\n",
    "plt.legend(['Current_Cost','Best_Cost'])\n",
    "plt.tight_layout()"
   ]
  },
  {
   "cell_type": "code",
   "execution_count": 330,
   "metadata": {},
   "outputs": [],
   "source": [
    "table = sa_combine.groupby('Iteration_Number')"
   ]
  },
  {
   "cell_type": "code",
   "execution_count": 344,
   "metadata": {},
   "outputs": [
    {
     "data": {
      "text/plain": [
       "Current_Cost    9.262141e+08\n",
       "Best_Cost       9.255250e+08\n",
       "Name: 1000.0, dtype: float64"
      ]
     },
     "execution_count": 344,
     "metadata": {},
     "output_type": "execute_result"
    }
   ],
   "source": [
    "table.mean().loc[1000]"
   ]
  },
  {
   "cell_type": "code",
   "execution_count": 345,
   "metadata": {},
   "outputs": [
    {
     "data": {
      "text/plain": [
       "Current_Cost    2.477936e+07\n",
       "Best_Cost       2.346130e+07\n",
       "Name: 1000.0, dtype: float64"
      ]
     },
     "execution_count": 345,
     "metadata": {},
     "output_type": "execute_result"
    }
   ],
   "source": [
    "table.std().loc[1000]"
   ]
  },
  {
   "cell_type": "code",
   "execution_count": 360,
   "metadata": {},
   "outputs": [
    {
     "name": "stdout",
     "output_type": "stream",
     "text": [
      "Average CPU Time: 0.03329s\n"
     ]
    }
   ],
   "source": [
    "# Average CPU time\n",
    "print(\"Average CPU Time: %.5fs\" %np.mean(cpu_time))"
   ]
  }
 ],
 "metadata": {
  "kernelspec": {
   "display_name": "Python 3",
   "language": "python",
   "name": "python3"
  },
  "language_info": {
   "codemirror_mode": {
    "name": "ipython",
    "version": 3
   },
   "file_extension": ".py",
   "mimetype": "text/x-python",
   "name": "python",
   "nbconvert_exporter": "python",
   "pygments_lexer": "ipython3",
   "version": "3.6.2"
  }
 },
 "nbformat": 4,
 "nbformat_minor": 2
}

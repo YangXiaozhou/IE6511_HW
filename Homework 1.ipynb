{
 "cells": [
  {
   "cell_type": "code",
   "execution_count": null,
   "metadata": {
    "collapsed": true
   },
   "outputs": [],
   "source": [
    "import numpy as np\n",
    "import matplotlib.pyplot as plt"
   ]
  },
  {
   "attachments": {},
   "cell_type": "markdown",
   "metadata": {},
   "source": [
    "Assignment: \n",
    "1.\tSimple optimization algorithms: Your assignment is to write a code using greedy, random walk or random search   to minimize the following simple one-dimensional cost function:\n",
    "\n",
    "Cost(s) = (400 – (s – 21)2) $*$ sin(s$*$pi/6)\n",
    "\n",
    "Constraints: s is integer-valued and 0 s 500"
   ]
  },
  {
   "cell_type": "code",
   "execution_count": null,
   "metadata": {
    "collapsed": true
   },
   "outputs": [],
   "source": [
    "\n",
    "def cost(s):\n",
    "    return (400 - pow(s-21,2)) * np.sin(s*np.pi/6)\n",
    "\n",
    "s = np.linspace(0,500,501,True)\n",
    "plt.plot(s,cost(s))"
   ]
  }
 ],
 "metadata": {
  "kernelspec": {
   "display_name": "Python 3",
   "language": "python",
   "name": "python3"
  },
  "language_info": {
   "codemirror_mode": {
    "name": "ipython",
    "version": 3
   },
   "file_extension": ".py",
   "mimetype": "text/x-python",
   "name": "python",
   "nbconvert_exporter": "python",
   "pygments_lexer": "ipython3",
   "version": "3.6.2"
  }
 },
 "nbformat": 4,
 "nbformat_minor": 2
}
